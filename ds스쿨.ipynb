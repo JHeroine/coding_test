{
  "nbformat": 4,
  "nbformat_minor": 0,
  "metadata": {
    "colab": {
      "name": "ds스쿨.ipynb",
      "provenance": [],
      "collapsed_sections": [],
      "include_colab_link": true
    },
    "kernelspec": {
      "name": "python3",
      "display_name": "Python 3"
    }
  },
  "cells": [
    {
      "cell_type": "markdown",
      "metadata": {
        "id": "view-in-github",
        "colab_type": "text"
      },
      "source": [
        "<a href=\"https://colab.research.google.com/github/JHeroine/coding_test/blob/master/ds%EC%8A%A4%EC%BF%A8.ipynb\" target=\"_parent\"><img src=\"https://colab.research.google.com/assets/colab-badge.svg\" alt=\"Open In Colab\"/></a>"
      ]
    },
    {
      "cell_type": "code",
      "metadata": {
        "id": "fozEXKjQupdD",
        "colab_type": "code",
        "colab": {}
      },
      "source": [
        ""
      ],
      "execution_count": 0,
      "outputs": []
    },
    {
      "cell_type": "code",
      "metadata": {
        "id": "TGcxNHttuxBc",
        "colab_type": "code",
        "colab": {
          "base_uri": "https://localhost:8080/",
          "height": 122
        },
        "outputId": "9a8a1172-fb9a-4c33-b8cf-42e1402edbbe"
      },
      "source": [
        "from google.colab import drive\n",
        "drive.mount('/content/drive')"
      ],
      "execution_count": 1,
      "outputs": [
        {
          "output_type": "stream",
          "text": [
            "Go to this URL in a browser: https://accounts.google.com/o/oauth2/auth?client_id=947318989803-6bn6qk8qdgf4n4g3pfee6491hc0brc4i.apps.googleusercontent.com&redirect_uri=urn%3aietf%3awg%3aoauth%3a2.0%3aoob&response_type=code&scope=email%20https%3a%2f%2fwww.googleapis.com%2fauth%2fdocs.test%20https%3a%2f%2fwww.googleapis.com%2fauth%2fdrive%20https%3a%2f%2fwww.googleapis.com%2fauth%2fdrive.photos.readonly%20https%3a%2f%2fwww.googleapis.com%2fauth%2fpeopleapi.readonly\n",
            "\n",
            "Enter your authorization code:\n",
            "··········\n",
            "Mounted at /content/drive\n"
          ],
          "name": "stdout"
        }
      ]
    },
    {
      "cell_type": "code",
      "metadata": {
        "id": "CXHRPR-ku4rU",
        "colab_type": "code",
        "colab": {}
      },
      "source": [
        "import pandas as pd\n"
      ],
      "execution_count": 0,
      "outputs": []
    },
    {
      "cell_type": "code",
      "metadata": {
        "id": "aNfWSGKUzv6d",
        "colab_type": "code",
        "colab": {
          "base_uri": "https://localhost:8080/",
          "height": 375
        },
        "outputId": "799813a9-1c32-4f95-f651-ecc72432e726"
      },
      "source": [
        "train = pd.read_csv(\"train.csv\")"
      ],
      "execution_count": 7,
      "outputs": [
        {
          "output_type": "error",
          "ename": "FileNotFoundError",
          "evalue": "ignored",
          "traceback": [
            "\u001b[0;31m---------------------------------------------------------------------------\u001b[0m",
            "\u001b[0;31mFileNotFoundError\u001b[0m                         Traceback (most recent call last)",
            "\u001b[0;32m<ipython-input-7-1ec55e37ab36>\u001b[0m in \u001b[0;36m<module>\u001b[0;34m()\u001b[0m\n\u001b[0;32m----> 1\u001b[0;31m \u001b[0mtrain\u001b[0m \u001b[0;34m=\u001b[0m \u001b[0mpd\u001b[0m\u001b[0;34m.\u001b[0m\u001b[0mread_csv\u001b[0m\u001b[0;34m(\u001b[0m\u001b[0;34m\"train.csv\"\u001b[0m\u001b[0;34m)\u001b[0m\u001b[0;34m\u001b[0m\u001b[0;34m\u001b[0m\u001b[0m\n\u001b[0m",
            "\u001b[0;32m/usr/local/lib/python3.6/dist-packages/pandas/io/parsers.py\u001b[0m in \u001b[0;36mparser_f\u001b[0;34m(filepath_or_buffer, sep, delimiter, header, names, index_col, usecols, squeeze, prefix, mangle_dupe_cols, dtype, engine, converters, true_values, false_values, skipinitialspace, skiprows, skipfooter, nrows, na_values, keep_default_na, na_filter, verbose, skip_blank_lines, parse_dates, infer_datetime_format, keep_date_col, date_parser, dayfirst, cache_dates, iterator, chunksize, compression, thousands, decimal, lineterminator, quotechar, quoting, doublequote, escapechar, comment, encoding, dialect, error_bad_lines, warn_bad_lines, delim_whitespace, low_memory, memory_map, float_precision)\u001b[0m\n\u001b[1;32m    674\u001b[0m         )\n\u001b[1;32m    675\u001b[0m \u001b[0;34m\u001b[0m\u001b[0m\n\u001b[0;32m--> 676\u001b[0;31m         \u001b[0;32mreturn\u001b[0m \u001b[0m_read\u001b[0m\u001b[0;34m(\u001b[0m\u001b[0mfilepath_or_buffer\u001b[0m\u001b[0;34m,\u001b[0m \u001b[0mkwds\u001b[0m\u001b[0;34m)\u001b[0m\u001b[0;34m\u001b[0m\u001b[0;34m\u001b[0m\u001b[0m\n\u001b[0m\u001b[1;32m    677\u001b[0m \u001b[0;34m\u001b[0m\u001b[0m\n\u001b[1;32m    678\u001b[0m     \u001b[0mparser_f\u001b[0m\u001b[0;34m.\u001b[0m\u001b[0m__name__\u001b[0m \u001b[0;34m=\u001b[0m \u001b[0mname\u001b[0m\u001b[0;34m\u001b[0m\u001b[0;34m\u001b[0m\u001b[0m\n",
            "\u001b[0;32m/usr/local/lib/python3.6/dist-packages/pandas/io/parsers.py\u001b[0m in \u001b[0;36m_read\u001b[0;34m(filepath_or_buffer, kwds)\u001b[0m\n\u001b[1;32m    446\u001b[0m \u001b[0;34m\u001b[0m\u001b[0m\n\u001b[1;32m    447\u001b[0m     \u001b[0;31m# Create the parser.\u001b[0m\u001b[0;34m\u001b[0m\u001b[0;34m\u001b[0m\u001b[0;34m\u001b[0m\u001b[0m\n\u001b[0;32m--> 448\u001b[0;31m     \u001b[0mparser\u001b[0m \u001b[0;34m=\u001b[0m \u001b[0mTextFileReader\u001b[0m\u001b[0;34m(\u001b[0m\u001b[0mfp_or_buf\u001b[0m\u001b[0;34m,\u001b[0m \u001b[0;34m**\u001b[0m\u001b[0mkwds\u001b[0m\u001b[0;34m)\u001b[0m\u001b[0;34m\u001b[0m\u001b[0;34m\u001b[0m\u001b[0m\n\u001b[0m\u001b[1;32m    449\u001b[0m \u001b[0;34m\u001b[0m\u001b[0m\n\u001b[1;32m    450\u001b[0m     \u001b[0;32mif\u001b[0m \u001b[0mchunksize\u001b[0m \u001b[0;32mor\u001b[0m \u001b[0miterator\u001b[0m\u001b[0;34m:\u001b[0m\u001b[0;34m\u001b[0m\u001b[0;34m\u001b[0m\u001b[0m\n",
            "\u001b[0;32m/usr/local/lib/python3.6/dist-packages/pandas/io/parsers.py\u001b[0m in \u001b[0;36m__init__\u001b[0;34m(self, f, engine, **kwds)\u001b[0m\n\u001b[1;32m    878\u001b[0m             \u001b[0mself\u001b[0m\u001b[0;34m.\u001b[0m\u001b[0moptions\u001b[0m\u001b[0;34m[\u001b[0m\u001b[0;34m\"has_index_names\"\u001b[0m\u001b[0;34m]\u001b[0m \u001b[0;34m=\u001b[0m \u001b[0mkwds\u001b[0m\u001b[0;34m[\u001b[0m\u001b[0;34m\"has_index_names\"\u001b[0m\u001b[0;34m]\u001b[0m\u001b[0;34m\u001b[0m\u001b[0;34m\u001b[0m\u001b[0m\n\u001b[1;32m    879\u001b[0m \u001b[0;34m\u001b[0m\u001b[0m\n\u001b[0;32m--> 880\u001b[0;31m         \u001b[0mself\u001b[0m\u001b[0;34m.\u001b[0m\u001b[0m_make_engine\u001b[0m\u001b[0;34m(\u001b[0m\u001b[0mself\u001b[0m\u001b[0;34m.\u001b[0m\u001b[0mengine\u001b[0m\u001b[0;34m)\u001b[0m\u001b[0;34m\u001b[0m\u001b[0;34m\u001b[0m\u001b[0m\n\u001b[0m\u001b[1;32m    881\u001b[0m \u001b[0;34m\u001b[0m\u001b[0m\n\u001b[1;32m    882\u001b[0m     \u001b[0;32mdef\u001b[0m \u001b[0mclose\u001b[0m\u001b[0;34m(\u001b[0m\u001b[0mself\u001b[0m\u001b[0;34m)\u001b[0m\u001b[0;34m:\u001b[0m\u001b[0;34m\u001b[0m\u001b[0;34m\u001b[0m\u001b[0m\n",
            "\u001b[0;32m/usr/local/lib/python3.6/dist-packages/pandas/io/parsers.py\u001b[0m in \u001b[0;36m_make_engine\u001b[0;34m(self, engine)\u001b[0m\n\u001b[1;32m   1112\u001b[0m     \u001b[0;32mdef\u001b[0m \u001b[0m_make_engine\u001b[0m\u001b[0;34m(\u001b[0m\u001b[0mself\u001b[0m\u001b[0;34m,\u001b[0m \u001b[0mengine\u001b[0m\u001b[0;34m=\u001b[0m\u001b[0;34m\"c\"\u001b[0m\u001b[0;34m)\u001b[0m\u001b[0;34m:\u001b[0m\u001b[0;34m\u001b[0m\u001b[0;34m\u001b[0m\u001b[0m\n\u001b[1;32m   1113\u001b[0m         \u001b[0;32mif\u001b[0m \u001b[0mengine\u001b[0m \u001b[0;34m==\u001b[0m \u001b[0;34m\"c\"\u001b[0m\u001b[0;34m:\u001b[0m\u001b[0;34m\u001b[0m\u001b[0;34m\u001b[0m\u001b[0m\n\u001b[0;32m-> 1114\u001b[0;31m             \u001b[0mself\u001b[0m\u001b[0;34m.\u001b[0m\u001b[0m_engine\u001b[0m \u001b[0;34m=\u001b[0m \u001b[0mCParserWrapper\u001b[0m\u001b[0;34m(\u001b[0m\u001b[0mself\u001b[0m\u001b[0;34m.\u001b[0m\u001b[0mf\u001b[0m\u001b[0;34m,\u001b[0m \u001b[0;34m**\u001b[0m\u001b[0mself\u001b[0m\u001b[0;34m.\u001b[0m\u001b[0moptions\u001b[0m\u001b[0;34m)\u001b[0m\u001b[0;34m\u001b[0m\u001b[0;34m\u001b[0m\u001b[0m\n\u001b[0m\u001b[1;32m   1115\u001b[0m         \u001b[0;32melse\u001b[0m\u001b[0;34m:\u001b[0m\u001b[0;34m\u001b[0m\u001b[0;34m\u001b[0m\u001b[0m\n\u001b[1;32m   1116\u001b[0m             \u001b[0;32mif\u001b[0m \u001b[0mengine\u001b[0m \u001b[0;34m==\u001b[0m \u001b[0;34m\"python\"\u001b[0m\u001b[0;34m:\u001b[0m\u001b[0;34m\u001b[0m\u001b[0;34m\u001b[0m\u001b[0m\n",
            "\u001b[0;32m/usr/local/lib/python3.6/dist-packages/pandas/io/parsers.py\u001b[0m in \u001b[0;36m__init__\u001b[0;34m(self, src, **kwds)\u001b[0m\n\u001b[1;32m   1889\u001b[0m         \u001b[0mkwds\u001b[0m\u001b[0;34m[\u001b[0m\u001b[0;34m\"usecols\"\u001b[0m\u001b[0;34m]\u001b[0m \u001b[0;34m=\u001b[0m \u001b[0mself\u001b[0m\u001b[0;34m.\u001b[0m\u001b[0musecols\u001b[0m\u001b[0;34m\u001b[0m\u001b[0;34m\u001b[0m\u001b[0m\n\u001b[1;32m   1890\u001b[0m \u001b[0;34m\u001b[0m\u001b[0m\n\u001b[0;32m-> 1891\u001b[0;31m         \u001b[0mself\u001b[0m\u001b[0;34m.\u001b[0m\u001b[0m_reader\u001b[0m \u001b[0;34m=\u001b[0m \u001b[0mparsers\u001b[0m\u001b[0;34m.\u001b[0m\u001b[0mTextReader\u001b[0m\u001b[0;34m(\u001b[0m\u001b[0msrc\u001b[0m\u001b[0;34m,\u001b[0m \u001b[0;34m**\u001b[0m\u001b[0mkwds\u001b[0m\u001b[0;34m)\u001b[0m\u001b[0;34m\u001b[0m\u001b[0;34m\u001b[0m\u001b[0m\n\u001b[0m\u001b[1;32m   1892\u001b[0m         \u001b[0mself\u001b[0m\u001b[0;34m.\u001b[0m\u001b[0munnamed_cols\u001b[0m \u001b[0;34m=\u001b[0m \u001b[0mself\u001b[0m\u001b[0;34m.\u001b[0m\u001b[0m_reader\u001b[0m\u001b[0;34m.\u001b[0m\u001b[0munnamed_cols\u001b[0m\u001b[0;34m\u001b[0m\u001b[0;34m\u001b[0m\u001b[0m\n\u001b[1;32m   1893\u001b[0m \u001b[0;34m\u001b[0m\u001b[0m\n",
            "\u001b[0;32mpandas/_libs/parsers.pyx\u001b[0m in \u001b[0;36mpandas._libs.parsers.TextReader.__cinit__\u001b[0;34m()\u001b[0m\n",
            "\u001b[0;32mpandas/_libs/parsers.pyx\u001b[0m in \u001b[0;36mpandas._libs.parsers.TextReader._setup_parser_source\u001b[0;34m()\u001b[0m\n",
            "\u001b[0;31mFileNotFoundError\u001b[0m: [Errno 2] File train.csv does not exist: 'train.csv'"
          ]
        }
      ]
    },
    {
      "cell_type": "code",
      "metadata": {
        "id": "Zl3-3XU40bwZ",
        "colab_type": "code",
        "colab": {}
      },
      "source": [
        "<Load Dataset>\n",
        "#장점1. 판다스는 기가바이트정도 돌아감 엑셀에서 안돌아가면 판다스 사용 \n",
        "#장점2. 엑셀공식이 생각보다 그렇게 쉽게 잘돌아가지 않음\n",
        "import pandas as pd #판다스 파이썬이라는 프로그래밍언어 사용 현대적 체계적\n",
        "train = pd.read_csv(\"train.csv\") \n",
        "train.head()\n",
        "test = pd.read_csv(test.csv)\n",
        "test.head()"
      ],
      "execution_count": 0,
      "outputs": []
    },
    {
      "cell_type": "code",
      "metadata": {
        "id": "xffw42AM1TUR",
        "colab_type": "code",
        "colab": {}
      },
      "source": [
        "### Explore 데이터 시각화\n"
      ],
      "execution_count": 0,
      "outputs": []
    },
    {
      "cell_type": "code",
      "metadata": {
        "id": "09BvG8VS1XSo",
        "colab_type": "code",
        "colab": {}
      },
      "source": [
        "import seeborn as sns\n",
        "sns.countplot(data =train, x = \"Embarked\") \n",
        "#우리입장에서 몇명탔는지보다 어디서 타서 살았는지 구분하는게 필요\n",
        "sns.countplot(data =train, x = \"Embarked\", hue = \"Survived\")\n",
        "#쉐르부르지역에서 타는게 살아날 확률이 높구나 근데 왜?\n",
        "#엄연히 선착장이 중요한게 아니라 운임요금을 보면 쉐ㅜ르부르가 많은 운암요구를 냄 다른 지역보다\n",
        "# 좋은 피클래스를 준다. \n",
        "\n",
        "sns.countplot(data=train, x =\"Pclass\", hue\"Survived\")\n",
        "#만약 우리가 크루즈 탑승해야 한다이러면 돈을 많이 내야 위기 상활에서 살아남을 수 있다. \n"
      ],
      "execution_count": 0,
      "outputs": []
    },
    {
      "cell_type": "code",
      "metadata": {
        "id": "ejt6S6On2P7D",
        "colab_type": "code",
        "colab": {}
      },
      "source": [
        "sns.lmplot(data=train, x =\"Age\", y = \"Fare\")\n",
        "#선이 추세선 회귀선이라고 하는데 잘 안씀\n",
        "#안그리는걸 디폴트\n",
        "sns.lmplot(data=train, x =\"Age\", y = \"Fare\",hue\"Survived\", fit_reg=False)\n",
        "#특정위치에 오렌지색이 모여있으면 많이 살고 특정위치에 파란점이 몰려있으면 거기서 많이 죽음\n",
        "#근데 딱히 몰려있는게 보이지 않음 운임요금이 32달러인데 500달러 내신 과소비하신 3분이 있는데 문제가 되지 않음\n",
        "#살았기 때문에 이런것을 아웃라이어 이런걸 지우고 다시 시각화하면 그림이 달라지는데\n",
        "#거기서 다른 걸 알 수 있음\n",
        "train[train[\"Fare\"] > 500] #이건 500달러 넘게 낸 사람\n",
        "low_fare = train[train[\"Fare\"] < 500]\n"
      ],
      "execution_count": 0,
      "outputs": []
    },
    {
      "cell_type": "code",
      "metadata": {
        "id": "ezpmbyti3NYD",
        "colab_type": "code",
        "colab": {}
      },
      "source": [
        "low_fare = train[train[\"Fare\"] < 500]\n",
        "sns.lmplot(data=low_fare, x =\"Age\", y = \"Fare\",hue\"Survived\", fit_reg=False)\n",
        "# 이렇게 하면 500달러 이상이 사라짐 미만만 생김\n",
        "#100에서 200도 많이 사고 등등 운임요금이 생존자 사망자를 구분하는데 중용한 영향을 미치는구나 +\n",
        "#구체적으로 어떤식으로 구역이 나눠지는지 알 수 있다. \n",
        "\n",
        "#이젠 특정 위치만 포커싱하고 싶다ㅏ 이러면\n",
        "low_fare = train[train[\"Fare\"] < 100]\n",
        "#엑스축을보면 10살미만이 산사람이 많다 크루즈 타서 살려면 10살이여야 하거나 돈을 많이 벌어야 한다.\n"
      ],
      "execution_count": 0,
      "outputs": []
    },
    {
      "cell_type": "code",
      "metadata": {
        "id": "i7cw4tBX_l5s",
        "colab_type": "code",
        "colab": {}
      },
      "source": [
        "#### Preprocessing 두번째 피쳐 추가로 인한 전처리 학습\n"
      ],
      "execution_count": 0,
      "outputs": []
    },
    {
      "cell_type": "code",
      "metadata": {
        "id": "Vevg27W0_ru4",
        "colab_type": "code",
        "colab": {}
      },
      "source": [
        "#Encode Sex\n"
      ],
      "execution_count": 0,
      "outputs": []
    },
    {
      "cell_type": "code",
      "metadata": {
        "id": "-Ip6Cwi7_vkT",
        "colab_type": "code",
        "colab": {}
      },
      "source": [
        "train[\"Sex\"]#0과 1로 바꾸면 됨 전문용어로 인코딩한다."
      ],
      "execution_count": 0,
      "outputs": []
    },
    {
      "cell_type": "code",
      "metadata": {
        "id": "CycUhgUh_yLl",
        "colab_type": "code",
        "colab": {}
      },
      "source": [
        "train[\"Sex_encode\"] = train[\"Sex\"].replace(\"male\", 0).replace(\"female\",1)\n",
        "train.head()\n",
        "#이렇게 하면 오른쪽에 Sex_encode라는 컬럼이 하나 생김\n",
        "\n",
        "#파이썬의 고급기능 = 대괄호 두개 쓰면 컬럼 여러개 가져올수있음\n",
        "#비포 애프터 비교가능\n",
        "train[[\"Sex\", \"Sex_encode\"]].head()"
      ],
      "execution_count": 0,
      "outputs": []
    },
    {
      "cell_type": "code",
      "metadata": {
        "id": "InVdkmKpAkMX",
        "colab_type": "code",
        "colab": {}
      },
      "source": [
        "#트레인데이터와 같이 테스트 데이터도 똑같이 만들어주는 게 좋음\n",
        "test[\"Sex_encode\"] = test[\"Sex\"].replace(\"male\", 0).replace(\"female\",1)\n",
        "test.head()\n",
        "#이렇게 하면 오른쪽에 Sex_encode라는 컬럼이 하나 생김\n",
        "\n",
        "#파이썬의 고급기능 = 대괄호 두개 쓰면 컬럼 여러개 가져올수있음\n",
        "#비포 애프터 비교가능\n",
        "test[[\"Sex\", \"Sex_encode\"]].head()\n"
      ],
      "execution_count": 0,
      "outputs": []
    },
    {
      "cell_type": "code",
      "metadata": {
        "id": "cB56B6B2CsWh",
        "colab_type": "code",
        "colab": {}
      },
      "source": [
        "### 3번째   Fill in missing Fare"
      ],
      "execution_count": 0,
      "outputs": []
    },
    {
      "cell_type": "code",
      "metadata": {
        "id": "6xSbxpPmCwel",
        "colab_type": "code",
        "colab": {}
      },
      "source": [
        "#NAN(Not a number)\n",
        "train[train[\"Age\"].isnull()] #나이가 비어있는 데이터가 나옴 \n",
        "#하지만 운임요금의 빈값이 트레인에는 없고 테스트에는 있음\n"
      ],
      "execution_count": 0,
      "outputs": []
    },
    {
      "cell_type": "code",
      "metadata": {
        "id": "bkwZSHPRDJ-I",
        "colab_type": "code",
        "colab": {}
      },
      "source": [
        "#NAN(Not a number)\n",
        "#전체가 엄청 많은 숫자인데 우리가 임의로 정해도 큰 영향을 모시칠것이기 때문에 임의로 선정\n",
        "test[\"Fare\"] = test[\"Fare\"].fillna(0) #전체 400개 라서 큰 영향 없을 거임\n",
        "test[test[\"Age\"].isnull()]"
      ],
      "execution_count": 0,
      "outputs": []
    },
    {
      "cell_type": "code",
      "metadata": {
        "id": "oAsZwi2Z4Xov",
        "colab_type": "code",
        "colab": {}
      },
      "source": [
        "### TRAIN 머신러닝을 할거임"
      ],
      "execution_count": 0,
      "outputs": []
    },
    {
      "cell_type": "code",
      "metadata": {
        "id": "SzmoF2dr4ZqO",
        "colab_type": "code",
        "colab": {}
      },
      "source": [
        "#그림으로 도식화하고 싶다 이걸 트리라고 함\n",
        "#디시전 트리라고 함 타이타닉 구글에 decision tree titanic 성별을 기준으로 트루 펄스\n",
        "#하는 사람들 요런 식으로 할 수 있음 가지치듯이 뻗어날 수 있음\n",
        "#장점 데이터를 가져와서 나무에 넣어주면 끝 분석은 나무가 해줌 나무가 분석\n",
        "#훨씬 더 간결하게 데이터 분석 가능\n",
        "#의사결정 나무쓰기 전에 제일 먼저 해야하는게 데이터 두개로 쪼개야함\n"
      ],
      "execution_count": 0,
      "outputs": []
    },
    {
      "cell_type": "code",
      "metadata": {
        "id": "mc8R-XmC5Ouo",
        "colab_type": "code",
        "colab": {}
      },
      "source": [
        "# Feature(x) - 이 Survived 컬럼을 예측하는데  맞추기 위한 도움이 되는 값 Pclass Fare Embarked\n",
        "# Label(y) - 우리가 맞춰야 하는 정답 Survived"
      ],
      "execution_count": 0,
      "outputs": []
    },
    {
      "cell_type": "code",
      "metadata": {
        "id": "7DevMqQN5i1X",
        "colab_type": "code",
        "colab": {}
      },
      "source": [
        "# y = ax + b //x가 주어졌을 떄 좋은 에이와 비를 찾으면 와이를 예측할 수 있다."
      ],
      "execution_count": 0,
      "outputs": []
    },
    {
      "cell_type": "code",
      "metadata": {
        "id": "nN0GaEqj5wI5",
        "colab_type": "code",
        "colab": {}
      },
      "source": [
        "#피쳐는 여러개 레이블은 하나를 사용\n",
        "#피쳐에 하나 넣고 나무보고 하나 넣고 나무를 보고 추가할 것임"
      ],
      "execution_count": 0,
      "outputs": []
    },
    {
      "cell_type": "code",
      "metadata": {
        "id": "FE4JFI2P59bw",
        "colab_type": "code",
        "colab": {}
      },
      "source": [
        "feature_names = [\"Pclass\", \"Sex_encode\"] #두번째로 성별 추가 #그래서 두번째 시 \"Sex_encode\"로바꾸면 됨\n",
        "#숫자로 잘 바뀔거임 레이블 시각화 더 잘되고 정교해짐\n",
        "feature_names"
      ],
      "execution_count": 0,
      "outputs": []
    },
    {
      "cell_type": "code",
      "metadata": {
        "id": "VGZGmHfv6FMk",
        "colab_type": "code",
        "colab": {}
      },
      "source": [
        "x = train[feature_names]#오직 필요한 컬럼만 가져옴 피클라스"
      ],
      "execution_count": 0,
      "outputs": []
    },
    {
      "cell_type": "code",
      "metadata": {
        "id": "LM1CBQ3N6Mom",
        "colab_type": "code",
        "colab": {}
      },
      "source": [
        "x.head()"
      ],
      "execution_count": 0,
      "outputs": []
    },
    {
      "cell_type": "code",
      "metadata": {
        "id": "L_cIhRIC6OZb",
        "colab_type": "code",
        "colab": {}
      },
      "source": [
        "labe.name = \"Survived\"\n",
        "y = train[label_name]\n",
        "y.head()"
      ],
      "execution_count": 0,
      "outputs": []
    },
    {
      "cell_type": "code",
      "metadata": {
        "id": "opF0BFBL6aE0",
        "colab_type": "code",
        "colab": {}
      },
      "source": [
        "###Use Decision Tree 의사결정 나무"
      ],
      "execution_count": 0,
      "outputs": []
    },
    {
      "cell_type": "code",
      "metadata": {
        "id": "sOhcxzqN6d4H",
        "colab_type": "code",
        "colab": {}
      },
      "source": [
        "#이미 만들어진걸 구현체\n",
        "#구현체가 있다는 걸 있다는 전제하에 거의 웬만하면 성능이 좋음 심지어 안정적 편하기도 함\n",
        "#어딨냐 그 구현체가 사잇킬런에 있음\n",
        "#파이썬의 머신러닝과 의사결정나무가 다 있다."
      ],
      "execution_count": 0,
      "outputs": []
    },
    {
      "cell_type": "code",
      "metadata": {
        "id": "m3k090FE68OV",
        "colab_type": "code",
        "colab": {}
      },
      "source": [
        "from sklearn.tree import DecisionTreeClassifier\n",
        "\n",
        "#fit predict\n",
        "#이 알고리즘 학습, 이 알고리즘 예측해서 케글에 제출하는거다\n",
        "#순서는 1) fit-> 2)predict\n",
        "model = DecisionTreeClassifier(max_depth=5)#model = DecisionTreeClassifier()원래인데운임요금으로 추가\n",
        "model\n",
        "#피클라스가 1등급이 많이 살아 2등급이 많이 살아 이걸 나무가 스스로 하는걸 이걸 학습한다해서\n",
        "#트레이닝 한다 피팅한다. 학습끝나면 프리딕ㅌ로 예측할 수 있다. \n",
        "#핏으로 트레인할 때는 학습데이터를 넣고 프리딕트는 데스트 데이터 사용 예측해서 제출해야해서\n"
      ],
      "execution_count": 0,
      "outputs": []
    },
    {
      "cell_type": "code",
      "metadata": {
        "id": "mvT3LQ--7naD",
        "colab_type": "code",
        "colab": {}
      },
      "source": [
        "model.fit(x,y) #트레인데이터의 피쳐와 레이블을 넣음 #학습이 끝남이제 예측해야 함\n",
        "\n",
        "#두번째로 하면 male이라는게 뭔지 모르는 에러가 남 \n",
        "#의사결정 나무는 내부적으로 수학공식과 통계학 공식으로 돌아가는데, 수학공식에 예를 들어서\n",
        "# 피클라스 123은 숫자라서 잘 돌아가지만, 텍스트는 잘 돌아가지 않음 \n",
        "#이 데이터르르 기계학습 알고리즘을 이해할 수 있는 정리해주는 과정 필요 => 전처리 프리프로세싱한다."
      ],
      "execution_count": 0,
      "outputs": []
    },
    {
      "cell_type": "code",
      "metadata": {
        "id": "qK7STDWw7yAU",
        "colab_type": "code",
        "colab": {}
      },
      "source": [
        "### Visualize # 운임요금 추가하면 나무가 무지막지하게 커짐 \n",
        "#나이와 운임요금컬럼은 종류도 많고 점위도 다양 전문용어로 컨티뉴어스 연속적데이터다라고 함\n",
        "#그런것들은 가지를 잘게 치는 특징\n",
        "\n",
        "#해결 1. 구열을 명확하게 나눠주기 구분해주기 그래서 운임요금 많이 낸게 몇달러 이상인데\n",
        "#해결 2. 의사결정 나무에 제야고건을 거는 것 다 좋은데 최대깊이는 5개만 했으면 좋겠어"
      ],
      "execution_count": 0,
      "outputs": []
    },
    {
      "cell_type": "code",
      "metadata": {
        "id": "2ZCPXbJ773Y3",
        "colab_type": "code",
        "colab": {}
      },
      "source": [
        "import graphviz\n",
        "from sklearn.tree import export_graphviz\n",
        "tree = export_graphviz(model)#모델이라는 변수를 넣음 의사결저지표\n",
        "\n",
        "graphviz.Source(tree)#그래프 비즈로 시각화한다."
      ],
      "execution_count": 0,
      "outputs": []
    },
    {
      "cell_type": "code",
      "metadata": {
        "id": "wufrD-Gy8Mwp",
        "colab_type": "code",
        "colab": {}
      },
      "source": [
        "#X[0]가 뭐냐 x는 피쳐 제로는 뭐냐 모든 프로그래밍 언어는 0부터 수를 셈 그래서 x0는 첫번째 피쳐다\n",
        "#근데 우리는 그 피쳐가 첫번째인지 두번째인지 중요하지 않음 애초에 하나만 넣었으므로\n",
        "import graphviz\n",
        "from sklearn.tree import export_graphviz\n",
        "tree = export_graphviz(model, \n",
        "                       feature_names = features_name,\n",
        "                       class_names = [\"Fare\", \"Survived\"])#모델이라는 변수를 넣음 의사결저지표\n",
        "\n",
        "graphviz.Source(tree)#그래프 비즈로 시각화한다."
      ],
      "execution_count": 0,
      "outputs": []
    },
    {
      "cell_type": "code",
      "metadata": {
        "id": "jtpjLZ-Y8pPB",
        "colab_type": "code",
        "colab": {}
      },
      "source": [
        "#이 네모박스 하나가 우리가 엑셀에 썻던 이프정보문이라고 생각하면 됨\n",
        "#이게 엑셀 이프문 조건이다. 트루인지 펄스인지 갈라지는 구조\n",
        "#오른쪽은 자연스럼게 3등급 왼쪽 트루는 1 펄스는 2등급\n",
        "#결론 1등급 살고 2등급 죽고 3등급 죽는다.\n",
        "# sns.countplot과 비슷하다"
      ],
      "execution_count": 0,
      "outputs": []
    },
    {
      "cell_type": "code",
      "metadata": {
        "id": "k_VM_027BHCR",
        "colab_type": "code",
        "colab": {}
      },
      "source": [
        "#두번째 예시 트리 그래프 설명\n",
        "#성별컬럼은 위로 피클라스가 아래로 되어있음\n",
        "#나무가 스스로 분석해보길\n",
        "#성별컬럼이 피클래스보다 훨씬더 중요한것같다고 스스로 판단\n",
        "#그정도는 나무가 스스로 판단\n",
        "#남성은 0 여성은 1로 했으니깐 오른쪽은 여성 왼쪽은 남성은 \n",
        "#최종적으로 여성 123등급 남성 123등급으로 나눌 수 있음\n",
        "\n",
        "#분석해보면 남성은 다 죽음 여성은 1등급 2등급살고 3등급은 죽는다.\n",
        "#어디서 많이 봤다 싶은데 우리 실습들어가기 조건이랑 같다. \n",
        "#분석결과가 똑같으면 \b예측결과 같고,예측결과같으면 제출파일도 같을 것임 아까와 같이 0.75\n",
        "\n",
        "# 3번째 운임요금 추가하기\n",
        "#피쳐를 여러개 하나씩 넣어보기 \n",
        "#피쳐는 빈값이 있다는 특징이 있음 값이 비어 있으면 제대로 동작되지 않음"
      ],
      "execution_count": 0,
      "outputs": []
    },
    {
      "cell_type": "code",
      "metadata": {
        "id": "gA5i4EmJ9Jzq",
        "colab_type": "code",
        "colab": {}
      },
      "source": [
        "### Predict"
      ],
      "execution_count": 0,
      "outputs": []
    },
    {
      "cell_type": "code",
      "metadata": {
        "id": "JR2LJSbT9Lpf",
        "colab_type": "code",
        "colab": {}
      },
      "source": [
        "#test가 필요하지만 전체가 필요한게 아니기 때문에\n",
        "X_test = test[feature_names]\n",
        "X_test.head()"
      ],
      "execution_count": 0,
      "outputs": []
    },
    {
      "cell_type": "code",
      "metadata": {
        "id": "GCNs3SPC9bFn",
        "colab_type": "code",
        "colab": {}
      },
      "source": [
        "model.predict(X_test)\n",
        "#그러면 누가 살고 죽는지 예측해줌 1이면 아마도 추축하면 피클라스가 1이고 0은 나머지는 23일 것\n",
        "prediction #이러면 예측 끝"
      ],
      "execution_count": 0,
      "outputs": []
    },
    {
      "cell_type": "code",
      "metadata": {
        "id": "2B_9DRVH9oQo",
        "colab_type": "code",
        "colab": {}
      },
      "source": [
        "###Submit\n",
        "#타이타닛에서 젠더 서브미션이 있었음\n",
        "pd.read_csv[\"gender_submission.csv\"] #이런식으로 제출해달라는 형식\n",
        "#0 1 001처럼 여성이면 1 남성이면 0 그래서 이름이 젠더 서브미션\n",
        "# 서바이벌 컬럼이 중요한게 아니고 저기 컬럼에 우리의 예측값 넣는게 중요"
      ],
      "execution_count": 0,
      "outputs": []
    },
    {
      "cell_type": "code",
      "metadata": {
        "id": "ZnjBl709-BPc",
        "colab_type": "code",
        "colab": {}
      },
      "source": [
        "submit[\"Survived\"] = prediction #이게 없으면 01001 있으면 00000으로 우리가 예측한 값으로 바뀐것\n",
        "submit.head()#앞에서 5개만 보면 됨\n"
      ],
      "execution_count": 0,
      "outputs": []
    },
    {
      "cell_type": "code",
      "metadata": {
        "id": "WwBSQMbR-Wcw",
        "colab_type": "code",
        "colab": {}
      },
      "source": [
        "#저장하는 것\n",
        "submit.to_csv(\"decision-tree.csv\", index = False)#이 이름으로 저장하는 것\n",
        "#인덱스를 케글에 저장할 필요없음"
      ],
      "execution_count": 0,
      "outputs": []
    },
    {
      "cell_type": "code",
      "metadata": {
        "id": "DAcZrcIi-6qT",
        "colab_type": "code",
        "colab": {}
      },
      "source": [
        "#피쳐는 여러개 넣을 수 있다고 했음 지금은 하나만 넣었음\n",
        "#우리는 뭘 추가할거냐 우리가 전체에서 타이타닉데이터에서 제일 중요한 컬럼은\n",
        "#성별이었음 그래서 새로운 피쳐로 성별을 넣을 거임"
      ],
      "execution_count": 0,
      "outputs": []
    }
  ]
}